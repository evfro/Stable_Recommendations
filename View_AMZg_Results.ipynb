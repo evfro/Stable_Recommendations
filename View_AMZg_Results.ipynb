{
 "cells": [
  {
   "cell_type": "code",
   "execution_count": null,
   "id": "african-confidence",
   "metadata": {},
   "outputs": [],
   "source": [
    "import numpy as np\n",
    "import pandas as pd\n",
    "\n",
    "import matplotlib.pyplot as plt\n",
    "import seaborn as sns\n",
    "\n",
    "from datareader import read_data, algs, display_ranks, combine_all_metrics"
   ]
  },
  {
   "cell_type": "markdown",
   "id": "august-organization",
   "metadata": {},
   "source": [
    "# Readin data"
   ]
  },
  {
   "cell_type": "code",
   "execution_count": null,
   "id": "collaborative-regression",
   "metadata": {},
   "outputs": [],
   "source": [
    "data, scores, test_users = read_data('Results for AmazonGames', 'AMZG')"
   ]
  },
  {
   "cell_type": "code",
   "execution_count": null,
   "id": "statewide-ministry",
   "metadata": {},
   "outputs": [],
   "source": [
    "all_metrics = combine_all_metrics(scores, data)"
   ]
  },
  {
   "cell_type": "code",
   "execution_count": null,
   "id": "indian-adventure",
   "metadata": {},
   "outputs": [],
   "source": [
    "all_metrics.head()"
   ]
  },
  {
   "cell_type": "markdown",
   "id": "monetary-elizabeth",
   "metadata": {},
   "source": [
    "# Stability"
   ]
  },
  {
   "cell_type": "code",
   "execution_count": null,
   "id": "representative-zealand",
   "metadata": {},
   "outputs": [],
   "source": [
    "plt.figure(figsize=(12, 5))\n",
    "sns.boxplot(\n",
    "    x='rank', y='Stability', hue='model',\n",
    "    data=all_metrics.query('rank in @ display_ranks')\n",
    ")"
   ]
  },
  {
   "cell_type": "markdown",
   "id": "hourly-independence",
   "metadata": {},
   "source": [
    "# HR"
   ]
  },
  {
   "cell_type": "code",
   "execution_count": null,
   "id": "accomplished-wedding",
   "metadata": {},
   "outputs": [],
   "source": [
    "plt.figure(figsize=(12, 5))\n",
    "sns.boxplot(\n",
    "    x='rank', y='HR', hue='model',\n",
    "    data=all_metrics.query('rank in @ display_ranks')\n",
    ")"
   ]
  },
  {
   "cell_type": "code",
   "execution_count": null,
   "id": "pursuant-jesus",
   "metadata": {},
   "outputs": [],
   "source": [
    "sns.lmplot(x='HR', y='Stability', hue='model', data=all_metrics, height=10)"
   ]
  },
  {
   "cell_type": "markdown",
   "id": "remarkable-browse",
   "metadata": {},
   "source": [
    "## MRR"
   ]
  },
  {
   "cell_type": "code",
   "execution_count": null,
   "id": "nominated-satisfaction",
   "metadata": {},
   "outputs": [],
   "source": [
    "plt.figure(figsize=(12, 5))\n",
    "sns.boxplot(\n",
    "    x='rank', y='MRR', hue='model',\n",
    "    data=all_metrics.query('rank in @ display_ranks')\n",
    ")"
   ]
  },
  {
   "cell_type": "code",
   "execution_count": null,
   "id": "imported-islam",
   "metadata": {},
   "outputs": [],
   "source": [
    "sns.lmplot(x='MRR', y='Stability', hue='model', data=all_metrics, height=10)"
   ]
  },
  {
   "cell_type": "markdown",
   "id": "charming-break",
   "metadata": {},
   "source": [
    "## Coverage"
   ]
  },
  {
   "cell_type": "code",
   "execution_count": null,
   "id": "guided-rebel",
   "metadata": {},
   "outputs": [],
   "source": [
    "plt.figure(figsize=(12, 5))\n",
    "sns.boxplot(\n",
    "    x='rank', y='COV', hue='model',\n",
    "    data=all_metrics.query('rank in @ display_ranks')\n",
    ")"
   ]
  },
  {
   "cell_type": "code",
   "execution_count": null,
   "id": "soviet-likelihood",
   "metadata": {},
   "outputs": [],
   "source": [
    "sns.lmplot(x='COV', y='Stability', hue='model', data=all_metrics, height=10)"
   ]
  },
  {
   "cell_type": "markdown",
   "id": "dependent-australia",
   "metadata": {},
   "source": [
    "# Other views"
   ]
  },
  {
   "cell_type": "markdown",
   "id": "charged-haven",
   "metadata": {},
   "source": [
    "## HR"
   ]
  },
  {
   "cell_type": "code",
   "execution_count": null,
   "id": "close-click",
   "metadata": {},
   "outputs": [],
   "source": [
    "metric = 'HR'\n",
    "\n",
    "plt.figure(figsize=(12, 8))\n",
    "# sns.lineplot(data=mrr_data, x='rank', y='mrr', hue='model', err_style='bars', ci=95, err_kws=dict(capsize=10, capthick=2))\n",
    "sns.lineplot(data=scores[metric]['long'], x='rank', y=metric, hue='model')"
   ]
  },
  {
   "cell_type": "code",
   "execution_count": null,
   "id": "worst-restoration",
   "metadata": {},
   "outputs": [],
   "source": []
  },
  {
   "cell_type": "code",
   "execution_count": null,
   "id": "threaded-detroit",
   "metadata": {},
   "outputs": [],
   "source": [
    "metric = 'HR'\n",
    "\n",
    "plt.figure(figsize=(12, 8))\n",
    "ax = sns.regplot(data=scores[metric]['wide'], x='PureSVD', y='PSI')\n",
    "ax.plot([0.001, 0.06], [0.001, 0.06])\n",
    "ax.set_title(metric);"
   ]
  },
  {
   "cell_type": "code",
   "execution_count": null,
   "id": "liberal-cutting",
   "metadata": {},
   "outputs": [],
   "source": [
    "metric = 'HR'\n",
    "\n",
    "g = sns.lmplot(\n",
    "    data=scores[metric]['wide'].loc[[10, 30, 50, 70]].reset_index(),\n",
    "    x=\"PureSVD\", y=\"PSI\", hue=\"rank\",\n",
    "    height=10\n",
    ")\n",
    "g.ax.plot([0.0, 0.04], [0.0, 0.04], ls=':', lw=5)\n",
    "g.ax.set_title(metric);\n",
    "# Use more informative axis labels than are provided by default\n",
    "# g.set_axis_labels(\"Snoot length (mm)\", \"Snoot depth (mm)\")"
   ]
  },
  {
   "cell_type": "markdown",
   "id": "collaborative-badge",
   "metadata": {},
   "source": [
    "## MRR"
   ]
  },
  {
   "cell_type": "code",
   "execution_count": null,
   "id": "measured-classroom",
   "metadata": {},
   "outputs": [],
   "source": [
    "metric = 'MRR'\n",
    "\n",
    "plt.figure(figsize=(12, 8))\n",
    "# sns.lineplot(data=mrr_data, x='rank', y='mrr', hue='model', err_style='bars', ci=95, err_kws=dict(capsize=10, capthick=2))\n",
    "sns.lineplot(data=scores[metric]['long'], x='rank', y=metric, hue='model')"
   ]
  },
  {
   "cell_type": "code",
   "execution_count": null,
   "id": "finnish-change",
   "metadata": {},
   "outputs": [],
   "source": []
  },
  {
   "cell_type": "code",
   "execution_count": null,
   "id": "needed-masters",
   "metadata": {},
   "outputs": [],
   "source": [
    "plt.figure(figsize=(12, 8))\n",
    "ax = sns.regplot(data=scores[metric]['wide'], x='PureSVD', y='PSI')\n",
    "ax.plot([0.00, 0.04], [0.00, 0.04])\n",
    "ax.set_title(metric);"
   ]
  },
  {
   "cell_type": "code",
   "execution_count": null,
   "id": "positive-amateur",
   "metadata": {},
   "outputs": [],
   "source": [
    "# Plot sepal width as a function of sepal_length across days\n",
    "g = sns.lmplot(\n",
    "    data=scores[metric]['wide'].loc[[10, 30, 50, 70]].reset_index(),\n",
    "    x=\"PureSVD\", y=\"PSI\", hue=\"rank\",\n",
    "    height=10\n",
    ")\n",
    "g.ax.plot([0.0, 0.04], [0.0, 0.04], ls=':', lw=5)\n",
    "g.ax.set_title(metric);\n",
    "# Use more informative axis labels than are provided by default\n",
    "# g.set_axis_labels(\"Snoot length (mm)\", \"Snoot depth (mm)\")"
   ]
  },
  {
   "cell_type": "markdown",
   "id": "funny-grain",
   "metadata": {},
   "source": [
    "## Coverage"
   ]
  },
  {
   "cell_type": "code",
   "execution_count": null,
   "id": "equipped-vacation",
   "metadata": {},
   "outputs": [],
   "source": [
    "metric = 'COV'\n",
    "\n",
    "plt.figure(figsize=(12, 8))\n",
    "# sns.lineplot(data=mrr_data, x='rank', y='mrr', hue='model', err_style='bars', ci=95, err_kws=dict(capsize=10, capthick=2))\n",
    "sns.lineplot(data=scores[metric]['long'], x='rank', y=metric, hue='model')"
   ]
  },
  {
   "cell_type": "code",
   "execution_count": null,
   "id": "upset-newspaper",
   "metadata": {},
   "outputs": [],
   "source": [
    "plt.figure(figsize=(12, 8))\n",
    "ax = sns.regplot(data=scores[metric]['wide'], x='PureSVD', y='PSI')\n",
    "ax.plot([0.005, 0.03], [0.005, 0.03])\n",
    "ax.set_title(metric);"
   ]
  },
  {
   "cell_type": "code",
   "execution_count": null,
   "id": "thermal-accountability",
   "metadata": {},
   "outputs": [],
   "source": [
    "# Plot sepal width as a function of sepal_length across days\n",
    "g = sns.lmplot(\n",
    "    data=scores[metric]['wide'].loc[[10, 30, 50, 70]].reset_index(),\n",
    "    x=\"PureSVD\", y=\"PSI\", hue=\"rank\",\n",
    "    height=10\n",
    ")\n",
    "g.ax.plot([0.005, 0.03], [0.005, 0.03], ls=':', lw=5)\n",
    "g.ax.set_title(metric);\n",
    "# Use more informative axis labels than are provided by default\n",
    "# g.set_axis_labels(\"Snoot length (mm)\", \"Snoot depth (mm)\")"
   ]
  },
  {
   "cell_type": "markdown",
   "id": "visible-smile",
   "metadata": {},
   "source": [
    "## Stability"
   ]
  },
  {
   "cell_type": "code",
   "execution_count": null,
   "id": "similar-voice",
   "metadata": {},
   "outputs": [],
   "source": [
    "stab_avg = pd.concat(\n",
    "    [\n",
    "        data[alg]['Stability_df'].groupby(['rank', 'step'])[['Stability']].mean()\n",
    "        for alg in algs\n",
    "    ],\n",
    "    keys = algs,\n",
    "    axis=0\n",
    ").rename_axis(index=['model', 'rank', 'step']).reset_index()\n",
    "stab_avg.head()"
   ]
  },
  {
   "cell_type": "code",
   "execution_count": null,
   "id": "thorough-nirvana",
   "metadata": {},
   "outputs": [],
   "source": [
    "fig, axes = plt.subplots(len(algs), 1, figsize=(12, len(algs)*8))\n",
    "for ax, alg in zip(axes, algs):\n",
    "    sns.boxplot(ax=ax, x=\"rank\", y=\"Stability\", hue=\"step\", showfliers=False,\n",
    "                data=data[alg]['Stability_df'].query('rank in @display_ranks'))\n",
    "    ax.set_title(alg);\n",
    "# sns.despine(offset=10, trim=True)"
   ]
  },
  {
   "cell_type": "code",
   "execution_count": null,
   "id": "quiet-conflict",
   "metadata": {},
   "outputs": [],
   "source": [
    "plt.figure(figsize=(16, 12))\n",
    "plt.scatter(\n",
    "    x=data[algs[0]]['Stability_df']['Stability'].sort_index(), # SVD\n",
    "    y=data[algs[1]]['Stability_df']['Stability'].sort_index(), # PSI\n",
    "    alpha=0.2\n",
    ")\n",
    "plt.plot([0, 1], [0, 1], c='r');"
   ]
  },
  {
   "cell_type": "markdown",
   "id": "convenient-majority",
   "metadata": {},
   "source": [
    "## UPD"
   ]
  },
  {
   "cell_type": "raw",
   "id": "extensive-making",
   "metadata": {},
   "source": [
    "upd_all = np.load(f'Results for MovieLen/ML_UPD_AllUsers.npz')['arr_0']"
   ]
  }
 ],
 "metadata": {
  "kernelspec": {
   "display_name": "Python [conda env:polaradev]",
   "language": "python",
   "name": "conda-env-polaradev-py"
  },
  "language_info": {
   "codemirror_mode": {
    "name": "ipython",
    "version": 3
   },
   "file_extension": ".py",
   "mimetype": "text/x-python",
   "name": "python",
   "nbconvert_exporter": "python",
   "pygments_lexer": "ipython3",
   "version": "3.8.2"
  }
 },
 "nbformat": 4,
 "nbformat_minor": 5
}
